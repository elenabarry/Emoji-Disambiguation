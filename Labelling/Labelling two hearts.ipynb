{
 "cells": [
  {
   "cell_type": "code",
   "execution_count": 1,
   "id": "3bc5c667",
   "metadata": {},
   "outputs": [
    {
     "data": {
      "text/html": [
       "<div>\n",
       "<style scoped>\n",
       "    .dataframe tbody tr th:only-of-type {\n",
       "        vertical-align: middle;\n",
       "    }\n",
       "\n",
       "    .dataframe tbody tr th {\n",
       "        vertical-align: top;\n",
       "    }\n",
       "\n",
       "    .dataframe thead th {\n",
       "        text-align: right;\n",
       "    }\n",
       "</style>\n",
       "<table border=\"1\" class=\"dataframe\">\n",
       "  <thead>\n",
       "    <tr style=\"text-align: right;\">\n",
       "      <th></th>\n",
       "      <th>Tweet</th>\n",
       "    </tr>\n",
       "  </thead>\n",
       "  <tbody>\n",
       "    <tr>\n",
       "      <th>0</th>\n",
       "      <td>💕 - currently working on my drawing of  ...</td>\n",
       "    </tr>\n",
       "    <tr>\n",
       "      <th>1</th>\n",
       "      <td>💕 thank you so much for the retweet, youre a...</td>\n",
       "    </tr>\n",
       "    <tr>\n",
       "      <th>2</th>\n",
       "      <td>base-nim,         have me blocked! a lil hel...</td>\n",
       "    </tr>\n",
       "    <tr>\n",
       "      <th>3</th>\n",
       "      <td>finally changed their profile and cover pict...</td>\n",
       "    </tr>\n",
       "    <tr>\n",
       "      <th>4</th>\n",
       "      <td>Happy 21st Birthday Lo!!! Turn tf up. Have f...</td>\n",
       "    </tr>\n",
       "    <tr>\n",
       "      <th>...</th>\n",
       "      <td>...</td>\n",
       "    </tr>\n",
       "    <tr>\n",
       "      <th>195</th>\n",
       "      <td>When you have money you can have any women whe...</td>\n",
       "    </tr>\n",
       "    <tr>\n",
       "      <th>196</th>\n",
       "      <td>Will you come to Turkey? I love you guys 💕\\n#A...</td>\n",
       "    </tr>\n",
       "    <tr>\n",
       "      <th>197</th>\n",
       "      <td>Woke up with Blackpink DDDD\\nGonna Sleep with ...</td>\n",
       "    </tr>\n",
       "    <tr>\n",
       "      <th>198</th>\n",
       "      <td>Would you want to have kids? — tbh yeah. But j...</td>\n",
       "    </tr>\n",
       "    <tr>\n",
       "      <th>199</th>\n",
       "      <td>Yeah I guess you could say I had fun celebrati...</td>\n",
       "    </tr>\n",
       "  </tbody>\n",
       "</table>\n",
       "<p>200 rows × 1 columns</p>\n",
       "</div>"
      ],
      "text/plain": [
       "                                                 Tweet\n",
       "0          💕 - currently working on my drawing of  ...\n",
       "1      💕 thank you so much for the retweet, youre a...\n",
       "2      base-nim,         have me blocked! a lil hel...\n",
       "3      finally changed their profile and cover pict...\n",
       "4      Happy 21st Birthday Lo!!! Turn tf up. Have f...\n",
       "..                                                 ...\n",
       "195  When you have money you can have any women whe...\n",
       "196  Will you come to Turkey? I love you guys 💕\\n#A...\n",
       "197  Woke up with Blackpink DDDD\\nGonna Sleep with ...\n",
       "198  Would you want to have kids? — tbh yeah. But j...\n",
       "199  Yeah I guess you could say I had fun celebrati...\n",
       "\n",
       "[200 rows x 1 columns]"
      ]
     },
     "execution_count": 1,
     "metadata": {},
     "output_type": "execute_result"
    }
   ],
   "source": [
    "import pandas as pd\n",
    "\n",
    "df = pd.read_csv('/Users/elena/Desktop/Emoji Project/Input Data/two hearts unlabelled.csv',index_col=None, header=0, engine='python')\n",
    "text = 'Tweet'\n",
    "df"
   ]
  },
  {
   "cell_type": "markdown",
   "id": "8181dfcd",
   "metadata": {},
   "source": [
    "# Definitions\n",
    "Read the following definitions carefully and decide which sense correctly describes the emoji in context. Click on the corresponding button representing the sense. If you can not see a sense that correctly describes the emoji in context, press the 'skip' button (you may need to press the button with '...' to skip). If the emoji is used in a sarcastic context, select the unsarcastic sense of the emoji, see below for detail.\n",
    "\n",
    "\n",
    "## Love\n",
    "\n",
    "1. love%1:12:00:: -a strong positive emotion of regard and affection"
   ]
  },
  {
   "cell_type": "code",
   "execution_count": 4,
   "id": "4f92064f",
   "metadata": {},
   "outputs": [],
   "source": [
    "from tortus import Tortus\n",
    "tortus = Tortus(df, text, num_records=40, id_column=None, annotations=None, random=False, labels=['love%1:12:00::'])"
   ]
  },
  {
   "cell_type": "code",
   "execution_count": 5,
   "id": "f196986b",
   "metadata": {},
   "outputs": [
    {
     "data": {
      "application/vnd.jupyter.widget-view+json": {
       "model_id": "0d7d56e581594ecbb884bc962434933f",
       "version_major": 2,
       "version_minor": 0
      },
      "text/plain": [
       "HBox(children=(Image(value=b'\\x89PNG\\r\\n\\x1a\\n\\x00\\x00\\x00\\rIHDR\\x00\\x00#0\\x00\\x00\\x06\\xc4\\x08\\x06\\x00\\x00\\x00…"
      ]
     },
     "metadata": {},
     "output_type": "display_data"
    },
    {
     "data": {
      "application/vnd.jupyter.widget-view+json": {
       "model_id": "3d6e95a3ff7c48a3b5deb8a35d89429c",
       "version_major": 2,
       "version_minor": 0
      },
      "text/plain": [
       "HTML(value='Click on the label corresponding with the text below. Each selection requires                 conf…"
      ]
     },
     "metadata": {},
     "output_type": "display_data"
    },
    {
     "data": {
      "application/vnd.jupyter.widget-view+json": {
       "model_id": "d8f4e65610354aebac1c26f5f7e9f7dc",
       "version_major": 2,
       "version_minor": 0
      },
      "text/plain": [
       "HTML(value='<h4>      💕 - currently working on my drawing of   to complete the… </h4>')"
      ]
     },
     "metadata": {},
     "output_type": "display_data"
    },
    {
     "data": {
      "application/vnd.jupyter.widget-view+json": {
       "model_id": "9ef1e54edb264fd9b59b25430e470fc1",
       "version_major": 2,
       "version_minor": 0
      },
      "text/plain": [
       "GridBox(children=(VBox(children=(Box(children=(Button(description='love%1:12:00::', layout=Layout(border='soli…"
      ]
     },
     "metadata": {},
     "output_type": "display_data"
    },
    {
     "data": {
      "application/vnd.jupyter.widget-view+json": {
       "model_id": "cede30cdb4744a78afb4961f6c157050",
       "version_major": 2,
       "version_minor": 0
      },
      "text/plain": [
       "Output()"
      ]
     },
     "metadata": {},
     "output_type": "display_data"
    }
   ],
   "source": [
    "tortus.annotate()"
   ]
  },
  {
   "cell_type": "code",
   "execution_count": 4,
   "id": "97087130",
   "metadata": {},
   "outputs": [],
   "source": [
    "annotations = tortus.annotations"
   ]
  },
  {
   "cell_type": "code",
   "execution_count": null,
   "id": "b2a85e4d",
   "metadata": {},
   "outputs": [],
   "source": [
    "annotations"
   ]
  },
  {
   "cell_type": "code",
   "execution_count": null,
   "id": "2e99afb6",
   "metadata": {},
   "outputs": [],
   "source": [
    "annotations.to_csv('/Users/elena/Desktop/Emoji Project/Annotated/40/two hearts emoji annotated 40.csv', encoding='utf-8')"
   ]
  }
 ],
 "metadata": {
  "kernelspec": {
   "display_name": "Python 3 (ipykernel)",
   "language": "python",
   "name": "python3"
  },
  "language_info": {
   "codemirror_mode": {
    "name": "ipython",
    "version": 3
   },
   "file_extension": ".py",
   "mimetype": "text/x-python",
   "name": "python",
   "nbconvert_exporter": "python",
   "pygments_lexer": "ipython3",
   "version": "3.9.12"
  }
 },
 "nbformat": 4,
 "nbformat_minor": 5
}
