{
 "cells": [
  {
   "cell_type": "code",
   "execution_count": 7,
   "id": "fd5c6b49",
   "metadata": {},
   "outputs": [
    {
     "data": {
      "text/html": [
       "<div>\n",
       "<style scoped>\n",
       "    .dataframe tbody tr th:only-of-type {\n",
       "        vertical-align: middle;\n",
       "    }\n",
       "\n",
       "    .dataframe tbody tr th {\n",
       "        vertical-align: top;\n",
       "    }\n",
       "\n",
       "    .dataframe thead th {\n",
       "        text-align: right;\n",
       "    }\n",
       "</style>\n",
       "<table border=\"1\" class=\"dataframe\">\n",
       "  <thead>\n",
       "    <tr style=\"text-align: right;\">\n",
       "      <th></th>\n",
       "      <th>Tweet</th>\n",
       "    </tr>\n",
       "  </thead>\n",
       "  <tbody>\n",
       "    <tr>\n",
       "      <th>0</th>\n",
       "      <td>can you fokken notify me everytime you chang...</td>\n",
       "    </tr>\n",
       "    <tr>\n",
       "      <th>1</th>\n",
       "      <td>I had to work for this moment thanks to the ...</td>\n",
       "    </tr>\n",
       "    <tr>\n",
       "      <th>2</th>\n",
       "      <td>is so good and pure, I want him to win so bad 😭</td>\n",
       "    </tr>\n",
       "    <tr>\n",
       "      <th>3</th>\n",
       "      <td>#ARMYSelcaDay \\nLmao my cringey Army Selca day...</td>\n",
       "    </tr>\n",
       "    <tr>\n",
       "      <th>4</th>\n",
       "      <td>$40 just came out of my laundry. Today is a go...</td>\n",
       "    </tr>\n",
       "    <tr>\n",
       "      <th>...</th>\n",
       "      <td>...</td>\n",
       "    </tr>\n",
       "    <tr>\n",
       "      <th>195</th>\n",
       "      <td>yoooo I really need to stop drinking wine lol ...</td>\n",
       "    </tr>\n",
       "    <tr>\n",
       "      <th>196</th>\n",
       "      <td>you are not getting better with time, its fine...</td>\n",
       "    </tr>\n",
       "    <tr>\n",
       "      <th>197</th>\n",
       "      <td>you ever have the moment when you don’t know i...</td>\n",
       "    </tr>\n",
       "    <tr>\n",
       "      <th>198</th>\n",
       "      <td>you know I don’t fyu if you don’t know my real...</td>\n",
       "    </tr>\n",
       "    <tr>\n",
       "      <th>199</th>\n",
       "      <td>You know you’re lame when you get excited abou...</td>\n",
       "    </tr>\n",
       "  </tbody>\n",
       "</table>\n",
       "<p>200 rows × 1 columns</p>\n",
       "</div>"
      ],
      "text/plain": [
       "                                                 Tweet\n",
       "0      can you fokken notify me everytime you chang...\n",
       "1      I had to work for this moment thanks to the ...\n",
       "2      is so good and pure, I want him to win so bad 😭\n",
       "3    #ARMYSelcaDay \\nLmao my cringey Army Selca day...\n",
       "4    $40 just came out of my laundry. Today is a go...\n",
       "..                                                 ...\n",
       "195  yoooo I really need to stop drinking wine lol ...\n",
       "196  you are not getting better with time, its fine...\n",
       "197  you ever have the moment when you don’t know i...\n",
       "198  you know I don’t fyu if you don’t know my real...\n",
       "199  You know you’re lame when you get excited abou...\n",
       "\n",
       "[200 rows x 1 columns]"
      ]
     },
     "execution_count": 7,
     "metadata": {},
     "output_type": "execute_result"
    }
   ],
   "source": [
    "import pandas as pd\n",
    "\n",
    "df = pd.read_csv('/Users/elena/Desktop/Emoji Project/Input Data/loudly crying face unlabelled.csv',index_col=None, header=0, engine='python')\n",
    "text = 'Tweet'\n",
    "df"
   ]
  },
  {
   "cell_type": "markdown",
   "id": "484119fe",
   "metadata": {},
   "source": [
    "# Definitions\n",
    "\n",
    "Read the following definitions carefully and decide which sense correctly describes the emoji in context. Click on the corresponding button representing the sense. If you can not see a sense that correctly describes the emoji in context, press the 'skip' button (you may need to press the button with '...' to skip). If the emoji is used in a sarcastic context, select the unsarcastic sense of the emoji, see below for detail.\n",
    "\n",
    "\n",
    "## Laughter\n",
    "\n",
    "1. laughter%1:04:00:: - the activity of laughing; the manifestation of joy or mirth or scorn\n",
    "\n",
    "## Crying\n",
    "\n",
    "2. crying%1:04:00:: - the process of shedding tears (usually accompanied by sobs or other inarticulate sounds)\n",
    "\n",
    "Use this in its litreal sense - e.g. Damn allergies must be acting up because this weird fluid is pouring out of my eyes! 😭\n",
    "\n",
    "## Sadness \n",
    "\n",
    "3. sadness%1:26:00:: - the state of being sad\n",
    "\n",
    "## Grief\n",
    "\n",
    "4. sorrow%1:12:00:: - an emotion of great sadness associated with loss or bereavement\n",
    "\n",
    "## Pain\n",
    "\n",
    "5. pain%1:12:00:: - emotional distress; a fundamental feeling that people try to avoid\n",
    "\n",
    "\n",
    "## Joy \n",
    "\n",
    "6. joy%1:12:00:: - the emotion of great happiness\n",
    "\n",
    "\n",
    "## Cute/ attractive \n",
    "\n",
    "7. cute%3:00:00:attractive:01 - attractive especially by means of smallness or prettiness or quaintness\n",
    "\n",
    "\n",
    "## Pride\n",
    "\n",
    "8. pride%1:12:01:: - satisfaction with your (or another's) achievements\n",
    "\n"
   ]
  },
  {
   "cell_type": "code",
   "execution_count": 8,
   "id": "6c3219e9",
   "metadata": {},
   "outputs": [],
   "source": [
    "from tortus import Tortus\n",
    "tortus = Tortus(df, text, num_records=40, id_column=None, annotations=None, random=False, labels=['laughter%1:04:00::', 'crying%1:04:00::', 'sadness%1:26:00::', 'sorrow%1:12:00::','pain%1:12:00::', 'joy%1:12:00::', 'cute%3:00:00:attractive:01', 'pride%1:12:01::'])"
   ]
  },
  {
   "cell_type": "code",
   "execution_count": 9,
   "id": "e65d239f",
   "metadata": {},
   "outputs": [
    {
     "data": {
      "application/vnd.jupyter.widget-view+json": {
       "model_id": "f3ed43ad3d394fa3b4a3b22b816a2da9",
       "version_major": 2,
       "version_minor": 0
      },
      "text/plain": [
       "HBox(children=(Image(value=b'\\x89PNG\\r\\n\\x1a\\n\\x00\\x00\\x00\\rIHDR\\x00\\x00#0\\x00\\x00\\x06\\xc4\\x08\\x06\\x00\\x00\\x00…"
      ]
     },
     "metadata": {},
     "output_type": "display_data"
    },
    {
     "data": {
      "application/vnd.jupyter.widget-view+json": {
       "model_id": "693f55c8da724ebb81a9c40352870e97",
       "version_major": 2,
       "version_minor": 0
      },
      "text/plain": [
       "HTML(value='Click on the label corresponding with the text below. Each selection requires                 conf…"
      ]
     },
     "metadata": {},
     "output_type": "display_data"
    },
    {
     "data": {
      "application/vnd.jupyter.widget-view+json": {
       "model_id": "ea1b45d11c6541d79c8be9b888f88d9b",
       "version_major": 2,
       "version_minor": 0
      },
      "text/plain": [
       "HTML(value='<h4>  I had to work for this moment thanks to the queen Valkyrie 😭 </h4>')"
      ]
     },
     "metadata": {},
     "output_type": "display_data"
    },
    {
     "data": {
      "application/vnd.jupyter.widget-view+json": {
       "model_id": "7db85c34444048d78d277be7226dc50e",
       "version_major": 2,
       "version_minor": 0
      },
      "text/plain": [
       "GridBox(children=(VBox(children=(Box(children=(Button(description='laughter%1:04:00::', layout=Layout(border='…"
      ]
     },
     "metadata": {},
     "output_type": "display_data"
    },
    {
     "data": {
      "application/vnd.jupyter.widget-view+json": {
       "model_id": "1a3b727d55b448ecaf1eae82278724da",
       "version_major": 2,
       "version_minor": 0
      },
      "text/plain": [
       "Output()"
      ]
     },
     "metadata": {},
     "output_type": "display_data"
    }
   ],
   "source": [
    "tortus.annotate()"
   ]
  },
  {
   "cell_type": "code",
   "execution_count": 4,
   "id": "c4d164b6",
   "metadata": {},
   "outputs": [],
   "source": [
    "annotations = tortus.annotations"
   ]
  },
  {
   "cell_type": "code",
   "execution_count": 5,
   "id": "97d8557d",
   "metadata": {},
   "outputs": [
    {
     "data": {
      "text/html": [
       "<div>\n",
       "<style scoped>\n",
       "    .dataframe tbody tr th:only-of-type {\n",
       "        vertical-align: middle;\n",
       "    }\n",
       "\n",
       "    .dataframe tbody tr th {\n",
       "        vertical-align: top;\n",
       "    }\n",
       "\n",
       "    .dataframe thead th {\n",
       "        text-align: right;\n",
       "    }\n",
       "</style>\n",
       "<table border=\"1\" class=\"dataframe\">\n",
       "  <thead>\n",
       "    <tr style=\"text-align: right;\">\n",
       "      <th></th>\n",
       "      <th>id_column</th>\n",
       "      <th>Tweet</th>\n",
       "      <th>label</th>\n",
       "      <th>annotated_at</th>\n",
       "    </tr>\n",
       "  </thead>\n",
       "  <tbody>\n",
       "    <tr>\n",
       "      <th>0</th>\n",
       "      <td>0</td>\n",
       "      <td>can you fokken notify me everytime you chang...</td>\n",
       "      <td>None</td>\n",
       "      <td>2022-08-31 17:32:24</td>\n",
       "    </tr>\n",
       "    <tr>\n",
       "      <th>1</th>\n",
       "      <td>1</td>\n",
       "      <td>I had to work for this moment thanks to the ...</td>\n",
       "      <td>pride%1:12:01::</td>\n",
       "      <td>2022-08-31 17:33:36</td>\n",
       "    </tr>\n",
       "    <tr>\n",
       "      <th>2</th>\n",
       "      <td>2</td>\n",
       "      <td>is so good and pure, I want him to win so bad 😭</td>\n",
       "      <td>pain%1:12:00::</td>\n",
       "      <td>2022-08-31 17:34:37</td>\n",
       "    </tr>\n",
       "    <tr>\n",
       "      <th>3</th>\n",
       "      <td>3</td>\n",
       "      <td>#ARMYSelcaDay \\nLmao my cringey Army Selca day...</td>\n",
       "      <td>laughter%1:04:00::</td>\n",
       "      <td>2022-08-31 17:36:01</td>\n",
       "    </tr>\n",
       "    <tr>\n",
       "      <th>4</th>\n",
       "      <td>4</td>\n",
       "      <td>$40 just came out of my laundry. Today is a go...</td>\n",
       "      <td>joy%1:12:00::</td>\n",
       "      <td>2022-08-31 17:36:12</td>\n",
       "    </tr>\n",
       "    <tr>\n",
       "      <th>5</th>\n",
       "      <td>5</td>\n",
       "      <td>7 is my favorite number and today my fave coup...</td>\n",
       "      <td>joy%1:12:00::</td>\n",
       "      <td>2022-08-31 17:37:14</td>\n",
       "    </tr>\n",
       "    <tr>\n",
       "      <th>6</th>\n",
       "      <td>6</td>\n",
       "      <td>A female will be like text me, you text her th...</td>\n",
       "      <td>sadness%1:26:00::</td>\n",
       "      <td>2022-08-31 17:37:40</td>\n",
       "    </tr>\n",
       "    <tr>\n",
       "      <th>7</th>\n",
       "      <td>7</td>\n",
       "      <td>After Friday I was just like F my homework and...</td>\n",
       "      <td>pain%1:12:00::</td>\n",
       "      <td>2022-08-31 17:38:09</td>\n",
       "    </tr>\n",
       "    <tr>\n",
       "      <th>8</th>\n",
       "      <td>8</td>\n",
       "      <td>Afternoon naps are a trap, I woke up even more...</td>\n",
       "      <td>laughter%1:04:00::</td>\n",
       "      <td>2022-08-31 17:38:41</td>\n",
       "    </tr>\n",
       "  </tbody>\n",
       "</table>\n",
       "</div>"
      ],
      "text/plain": [
       "   id_column                                              Tweet  \\\n",
       "0          0    can you fokken notify me everytime you chang...   \n",
       "1          1    I had to work for this moment thanks to the ...   \n",
       "2          2    is so good and pure, I want him to win so bad 😭   \n",
       "3          3  #ARMYSelcaDay \\nLmao my cringey Army Selca day...   \n",
       "4          4  $40 just came out of my laundry. Today is a go...   \n",
       "5          5  7 is my favorite number and today my fave coup...   \n",
       "6          6  A female will be like text me, you text her th...   \n",
       "7          7  After Friday I was just like F my homework and...   \n",
       "8          8  Afternoon naps are a trap, I woke up even more...   \n",
       "\n",
       "                label        annotated_at  \n",
       "0                None 2022-08-31 17:32:24  \n",
       "1     pride%1:12:01:: 2022-08-31 17:33:36  \n",
       "2      pain%1:12:00:: 2022-08-31 17:34:37  \n",
       "3  laughter%1:04:00:: 2022-08-31 17:36:01  \n",
       "4       joy%1:12:00:: 2022-08-31 17:36:12  \n",
       "5       joy%1:12:00:: 2022-08-31 17:37:14  \n",
       "6   sadness%1:26:00:: 2022-08-31 17:37:40  \n",
       "7      pain%1:12:00:: 2022-08-31 17:38:09  \n",
       "8  laughter%1:04:00:: 2022-08-31 17:38:41  "
      ]
     },
     "execution_count": 5,
     "metadata": {},
     "output_type": "execute_result"
    }
   ],
   "source": [
    "annotations"
   ]
  },
  {
   "cell_type": "code",
   "execution_count": 6,
   "id": "c5e02e27",
   "metadata": {},
   "outputs": [],
   "source": [
    "annotations.to_csv('/Users/elena/Desktop/Emoji Project/Annotated/40/loudly crying face emoji annotated 40.csv', encoding='utf-8')"
   ]
  },
  {
   "cell_type": "code",
   "execution_count": null,
   "id": "887e5b3f",
   "metadata": {},
   "outputs": [],
   "source": []
  }
 ],
 "metadata": {
  "kernelspec": {
   "display_name": "Python 3 (ipykernel)",
   "language": "python",
   "name": "python3"
  },
  "language_info": {
   "codemirror_mode": {
    "name": "ipython",
    "version": 3
   },
   "file_extension": ".py",
   "mimetype": "text/x-python",
   "name": "python",
   "nbconvert_exporter": "python",
   "pygments_lexer": "ipython3",
   "version": "3.9.12"
  }
 },
 "nbformat": 4,
 "nbformat_minor": 5
}
