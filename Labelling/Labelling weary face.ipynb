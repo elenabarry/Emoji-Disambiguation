{
 "cells": [
  {
   "cell_type": "code",
   "execution_count": 1,
   "id": "ead45225",
   "metadata": {},
   "outputs": [
    {
     "data": {
      "text/html": [
       "<div>\n",
       "<style scoped>\n",
       "    .dataframe tbody tr th:only-of-type {\n",
       "        vertical-align: middle;\n",
       "    }\n",
       "\n",
       "    .dataframe tbody tr th {\n",
       "        vertical-align: top;\n",
       "    }\n",
       "\n",
       "    .dataframe thead th {\n",
       "        text-align: right;\n",
       "    }\n",
       "</style>\n",
       "<table border=\"1\" class=\"dataframe\">\n",
       "  <thead>\n",
       "    <tr style=\"text-align: right;\">\n",
       "      <th></th>\n",
       "      <th>Tweet</th>\n",
       "    </tr>\n",
       "  </thead>\n",
       "  <tbody>\n",
       "    <tr>\n",
       "      <th>0</th>\n",
       "      <td>customer service is the worst 😩 WHERE THE HE...</td>\n",
       "    </tr>\n",
       "    <tr>\n",
       "      <th>1</th>\n",
       "      <td>why did I think those feathers you were swin...</td>\n",
       "    </tr>\n",
       "    <tr>\n",
       "      <th>2</th>\n",
       "      <td>#AskWhyDontWe how come you boys haven’t notice...</td>\n",
       "    </tr>\n",
       "    <tr>\n",
       "      <th>3</th>\n",
       "      <td>10000000% I’m staying in and away from drinkin...</td>\n",
       "    </tr>\n",
       "    <tr>\n",
       "      <th>4</th>\n",
       "      <td>2 hours left 😩 i’m ready to be off damn</td>\n",
       "    </tr>\n",
       "    <tr>\n",
       "      <th>...</th>\n",
       "      <td>...</td>\n",
       "    </tr>\n",
       "    <tr>\n",
       "      <th>194</th>\n",
       "      <td>Wtf is worse than waking up drunk and having t...</td>\n",
       "    </tr>\n",
       "    <tr>\n",
       "      <th>195</th>\n",
       "      <td>Y’all my bachelorette trip was so much fun 😩 V...</td>\n",
       "    </tr>\n",
       "    <tr>\n",
       "      <th>196</th>\n",
       "      <td>Yo it’s hard to learn when your brain is alrea...</td>\n",
       "    </tr>\n",
       "    <tr>\n",
       "      <th>197</th>\n",
       "      <td>Yoh I can’t wait until that point in my life w...</td>\n",
       "    </tr>\n",
       "    <tr>\n",
       "      <th>198</th>\n",
       "      <td>You know you had a good time when you lose you...</td>\n",
       "    </tr>\n",
       "  </tbody>\n",
       "</table>\n",
       "<p>199 rows × 1 columns</p>\n",
       "</div>"
      ],
      "text/plain": [
       "                                                 Tweet\n",
       "0      customer service is the worst 😩 WHERE THE HE...\n",
       "1      why did I think those feathers you were swin...\n",
       "2    #AskWhyDontWe how come you boys haven’t notice...\n",
       "3    10000000% I’m staying in and away from drinkin...\n",
       "4              2 hours left 😩 i’m ready to be off damn\n",
       "..                                                 ...\n",
       "194  Wtf is worse than waking up drunk and having t...\n",
       "195  Y’all my bachelorette trip was so much fun 😩 V...\n",
       "196  Yo it’s hard to learn when your brain is alrea...\n",
       "197  Yoh I can’t wait until that point in my life w...\n",
       "198  You know you had a good time when you lose you...\n",
       "\n",
       "[199 rows x 1 columns]"
      ]
     },
     "execution_count": 1,
     "metadata": {},
     "output_type": "execute_result"
    }
   ],
   "source": [
    "import pandas as pd\n",
    "\n",
    "df = pd.read_csv('/Users/elena/Desktop/Emoji Project/Input Data/weary face unlabelled.csv',index_col=None, header=0, engine='python')\n",
    "text = 'Tweet'\n",
    "df"
   ]
  },
  {
   "cell_type": "markdown",
   "id": "27b5dba7",
   "metadata": {},
   "source": [
    "# Definitions\n",
    "Read the following definitions carefully and decide which sense correctly describes the emoji in context. Click on the corresponding button representing the sense. If you can not see a sense that correctly describes the emoji in context, press the 'skip' button (you may need to press the button with '...' to skip). If the emoji is used in a sarcastic context, select the unsarcastic sense of the emoji, see below for detail.\n",
    "\n",
    "## Frustration\n",
    "\n",
    "1. frustration%1:12:01:: - a feeling of annoyance at being hindered or criticized\n",
    "\n",
    "## Sadness\n",
    "\n",
    "2. sadness%1:26:00:: - the state of being sad\n",
    "\n",
    "## Giving Up\n",
    "\n",
    "3. giving_up%1:10:00:: - a verbal act of admitting defeat\n",
    "\n",
    "## Weary \n",
    "\n",
    "4. weary%3:00:00:tired:00 - physically and mentally fatigued\n",
    "\n",
    "## Overjoy\n",
    "\n",
    "5. overjoy%2:37:00:: - cause to feel extremely joyful or happy\n"
   ]
  },
  {
   "cell_type": "code",
   "execution_count": 4,
   "id": "e9927f6c",
   "metadata": {},
   "outputs": [],
   "source": [
    "from tortus import Tortus\n",
    "tortus = Tortus(df, text, num_records=40, id_column=None, annotations=None, random=False, labels=['frustration%1:12:01::', 'sadness%1:26:00::', 'giving_up%1:10:00::', 'weary%3:00:00:tired:00', 'overjoy%2:37:00::'])"
   ]
  },
  {
   "cell_type": "code",
   "execution_count": 5,
   "id": "36579be7",
   "metadata": {},
   "outputs": [
    {
     "data": {
      "application/vnd.jupyter.widget-view+json": {
       "model_id": "dc282f2cd5374a74af20d51799518583",
       "version_major": 2,
       "version_minor": 0
      },
      "text/plain": [
       "HBox(children=(Image(value=b'\\x89PNG\\r\\n\\x1a\\n\\x00\\x00\\x00\\rIHDR\\x00\\x00#0\\x00\\x00\\x06\\xc4\\x08\\x06\\x00\\x00\\x00…"
      ]
     },
     "metadata": {},
     "output_type": "display_data"
    },
    {
     "data": {
      "application/vnd.jupyter.widget-view+json": {
       "model_id": "f5fec42ac39746a8b51e17d7d338ea2f",
       "version_major": 2,
       "version_minor": 0
      },
      "text/plain": [
       "Output()"
      ]
     },
     "metadata": {},
     "output_type": "display_data"
    }
   ],
   "source": [
    "tortus.annotate()"
   ]
  },
  {
   "cell_type": "code",
   "execution_count": 6,
   "id": "8f99b252",
   "metadata": {},
   "outputs": [],
   "source": [
    "annotations = tortus.annotations"
   ]
  },
  {
   "cell_type": "code",
   "execution_count": 7,
   "id": "2ac047db",
   "metadata": {},
   "outputs": [],
   "source": [
    "annotations.to_csv('/Users/elena/Desktop/Emoji Project/Annotated/40/weary face emoji annotated 40.csv', encoding='utf-8')"
   ]
  },
  {
   "cell_type": "code",
   "execution_count": null,
   "id": "3856c1b6",
   "metadata": {},
   "outputs": [],
   "source": []
  }
 ],
 "metadata": {
  "kernelspec": {
   "display_name": "Python 3 (ipykernel)",
   "language": "python",
   "name": "python3"
  },
  "language_info": {
   "codemirror_mode": {
    "name": "ipython",
    "version": 3
   },
   "file_extension": ".py",
   "mimetype": "text/x-python",
   "name": "python",
   "nbconvert_exporter": "python",
   "pygments_lexer": "ipython3",
   "version": "3.9.12"
  }
 },
 "nbformat": 4,
 "nbformat_minor": 5
}
