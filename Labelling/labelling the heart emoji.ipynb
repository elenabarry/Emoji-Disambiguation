{
 "cells": [
  {
   "cell_type": "code",
   "execution_count": 13,
   "id": "cff21ede",
   "metadata": {},
   "outputs": [
    {
     "data": {
      "text/html": [
       "<div>\n",
       "<style scoped>\n",
       "    .dataframe tbody tr th:only-of-type {\n",
       "        vertical-align: middle;\n",
       "    }\n",
       "\n",
       "    .dataframe tbody tr th {\n",
       "        vertical-align: top;\n",
       "    }\n",
       "\n",
       "    .dataframe thead th {\n",
       "        text-align: right;\n",
       "    }\n",
       "</style>\n",
       "<table border=\"1\" class=\"dataframe\">\n",
       "  <thead>\n",
       "    <tr style=\"text-align: right;\">\n",
       "      <th></th>\n",
       "      <th>Tweet</th>\n",
       "    </tr>\n",
       "  </thead>\n",
       "  <tbody>\n",
       "    <tr>\n",
       "      <th>0</th>\n",
       "      <td>#AskWhyDontWe\\u2060 \\u2060 can Daniel take m...</td>\n",
       "    </tr>\n",
       "    <tr>\n",
       "      <th>1</th>\n",
       "      <td>❤️ I am so excited that  #SmallDoses is comi...</td>\n",
       "    </tr>\n",
       "    <tr>\n",
       "      <th>2</th>\n",
       "      <td>happy birthday angel!!! i hope you’re having...</td>\n",
       "    </tr>\n",
       "    <tr>\n",
       "      <th>3</th>\n",
       "      <td>it was a pleasure being reminded how terribl...</td>\n",
       "    </tr>\n",
       "    <tr>\n",
       "      <th>4</th>\n",
       "      <td>really sang till his voice went out last nig...</td>\n",
       "    </tr>\n",
       "    <tr>\n",
       "      <th>...</th>\n",
       "      <td>...</td>\n",
       "    </tr>\n",
       "    <tr>\n",
       "      <th>194</th>\n",
       "      <td>When you’re both doing out of the ordinary thi...</td>\n",
       "    </tr>\n",
       "    <tr>\n",
       "      <th>195</th>\n",
       "      <td>When youre trying to be #polite but you're als...</td>\n",
       "    </tr>\n",
       "    <tr>\n",
       "      <th>196</th>\n",
       "      <td>Whenever you need me I’ll be here ❤️ .</td>\n",
       "    </tr>\n",
       "    <tr>\n",
       "      <th>197</th>\n",
       "      <td>your circle really does get small after a peri...</td>\n",
       "    </tr>\n",
       "    <tr>\n",
       "      <th>198</th>\n",
       "      <td>Youre missing out if you don't have our best-s...</td>\n",
       "    </tr>\n",
       "  </tbody>\n",
       "</table>\n",
       "<p>199 rows × 1 columns</p>\n",
       "</div>"
      ],
      "text/plain": [
       "                                                 Tweet\n",
       "0      #AskWhyDontWe\\u2060 \\u2060 can Daniel take m...\n",
       "1      ❤️ I am so excited that  #SmallDoses is comi...\n",
       "2      happy birthday angel!!! i hope you’re having...\n",
       "3      it was a pleasure being reminded how terribl...\n",
       "4      really sang till his voice went out last nig...\n",
       "..                                                 ...\n",
       "194  When you’re both doing out of the ordinary thi...\n",
       "195  When youre trying to be #polite but you're als...\n",
       "196             Whenever you need me I’ll be here ❤️ .\n",
       "197  your circle really does get small after a peri...\n",
       "198  Youre missing out if you don't have our best-s...\n",
       "\n",
       "[199 rows x 1 columns]"
      ]
     },
     "execution_count": 13,
     "metadata": {},
     "output_type": "execute_result"
    }
   ],
   "source": [
    "import pandas as pd\n",
    "\n",
    "df = pd.read_csv('/Users/elena/Desktop/Emoji Project/Input Data/heart tweets.csv',index_col=None, header=0, engine='python')\n",
    "text = 'Tweet'\n",
    "df"
   ]
  },
  {
   "cell_type": "markdown",
   "id": "864370cf",
   "metadata": {},
   "source": [
    "# Definitions\n",
    "\n",
    "Read the following definitions carefully and decide which sense correctly describes the emoji in context. Click on the corresponding button representing the sense. If you can not see a sense that correctly describes the emoji in context, press the 'skip' button (you may need to press the button with '...' to skip). If the emoji is used in a sarcastic context, select the unsarcastic sense of the emoji, see below for detail.\n",
    "\n",
    "\n",
    "## Love\n",
    "\n",
    "1. love%1:12:00:: - a strong positive emotion of regard and affection\n",
    "\n",
    "## Nostalgia\n",
    "\n",
    "2. nostalgia%1:12:00:: - longing for something past\n",
    "\n",
    "## Care\n",
    "\n",
    "3. care%2:37:02:: - feel concern or interest\n",
    "\n",
    "## Appreciation\n",
    "\n",
    "4. appreciation%1:10:00:: - an expression of gratitude\n",
    "\n",
    "## Interest\n",
    "\n",
    "5. interest%1:09:00:: - excite the curiosity of; engage the interest of\n",
    "\n",
    "## Courage\n",
    "\n",
    "6. heart%1:07:01:: - the courage to carry on\n",
    "\n",
    "\n",
    "## Sarcasm\n",
    "\n",
    "Even if you detect sarcasm, select the unsarcastic meaning\n",
    "\n",
    "- it was a pleasure being reminded how terrible of a mother I am ❤️ = love%1:12:00:: - a strong positive emotion of regard and affection\n",
    "\n"
   ]
  },
  {
   "cell_type": "code",
   "execution_count": 19,
   "id": "ed2fd372",
   "metadata": {},
   "outputs": [],
   "source": [
    " \n",
    "from tortus import Tortus\n",
    "tortus = Tortus(df, text, num_records=40, id_column=None, annotations=None, random=False, labels=['love%1:12:00::', 'nostalgia%1:12:00::', 'care%2:37:02::', 'appreciation%1:10:00::', 'interest%1:09:00::', 'heart%1:07:01::'])"
   ]
  },
  {
   "cell_type": "code",
   "execution_count": 20,
   "id": "80ba073f",
   "metadata": {},
   "outputs": [
    {
     "data": {
      "application/vnd.jupyter.widget-view+json": {
       "model_id": "f420bf70440440a7a63c509920595ab1",
       "version_major": 2,
       "version_minor": 0
      },
      "text/plain": [
       "HBox(children=(Image(value=b'\\x89PNG\\r\\n\\x1a\\n\\x00\\x00\\x00\\rIHDR\\x00\\x00#0\\x00\\x00\\x06\\xc4\\x08\\x06\\x00\\x00\\x00…"
      ]
     },
     "metadata": {},
     "output_type": "display_data"
    },
    {
     "data": {
      "application/vnd.jupyter.widget-view+json": {
       "model_id": "674bad99c523463db199d02f7af4a561",
       "version_major": 2,
       "version_minor": 0
      },
      "text/plain": [
       "HTML(value='Click on the label corresponding with the text below. Each selection requires                 conf…"
      ]
     },
     "metadata": {},
     "output_type": "display_data"
    },
    {
     "data": {
      "application/vnd.jupyter.widget-view+json": {
       "model_id": "b52b5b75db8c49eabb9560f49fb3f979",
       "version_major": 2,
       "version_minor": 0
      },
      "text/plain": [
       "HTML(value='<h4>\\xa0 #AskWhyDontWe\\\\u2060 \\\\u2060 can Daniel take me to prom? ❤️</h4>')"
      ]
     },
     "metadata": {},
     "output_type": "display_data"
    },
    {
     "data": {
      "application/vnd.jupyter.widget-view+json": {
       "model_id": "0e7fdbd5eca042a0a0e3216861a4669c",
       "version_major": 2,
       "version_minor": 0
      },
      "text/plain": [
       "GridBox(children=(VBox(children=(Box(children=(Button(description='love%1:12:00::', layout=Layout(border='soli…"
      ]
     },
     "metadata": {},
     "output_type": "display_data"
    },
    {
     "data": {
      "application/vnd.jupyter.widget-view+json": {
       "model_id": "ac702e1bb285404ca6f0eb95a4ab2ac2",
       "version_major": 2,
       "version_minor": 0
      },
      "text/plain": [
       "Output()"
      ]
     },
     "metadata": {},
     "output_type": "display_data"
    }
   ],
   "source": [
    "tortus.annotate()"
   ]
  },
  {
   "cell_type": "code",
   "execution_count": 16,
   "id": "8e28b157",
   "metadata": {},
   "outputs": [],
   "source": [
    "annotations = tortus.annotations"
   ]
  },
  {
   "cell_type": "code",
   "execution_count": 17,
   "id": "815f2825",
   "metadata": {},
   "outputs": [
    {
     "data": {
      "text/html": [
       "<div>\n",
       "<style scoped>\n",
       "    .dataframe tbody tr th:only-of-type {\n",
       "        vertical-align: middle;\n",
       "    }\n",
       "\n",
       "    .dataframe tbody tr th {\n",
       "        vertical-align: top;\n",
       "    }\n",
       "\n",
       "    .dataframe thead th {\n",
       "        text-align: right;\n",
       "    }\n",
       "</style>\n",
       "<table border=\"1\" class=\"dataframe\">\n",
       "  <thead>\n",
       "    <tr style=\"text-align: right;\">\n",
       "      <th></th>\n",
       "      <th>id_column</th>\n",
       "      <th>Tweet</th>\n",
       "      <th>label</th>\n",
       "      <th>annotated_at</th>\n",
       "    </tr>\n",
       "  </thead>\n",
       "  <tbody>\n",
       "    <tr>\n",
       "      <th>0</th>\n",
       "      <td>0</td>\n",
       "      <td>#AskWhyDontWe\\u2060 \\u2060 can Daniel take m...</td>\n",
       "      <td>love%1:12:00::</td>\n",
       "      <td>2022-07-15 15:24:24</td>\n",
       "    </tr>\n",
       "    <tr>\n",
       "      <th>1</th>\n",
       "      <td>1</td>\n",
       "      <td>❤️ I am so excited that  #SmallDoses is comi...</td>\n",
       "      <td>love%1:12:00::</td>\n",
       "      <td>2022-07-15 15:24:36</td>\n",
       "    </tr>\n",
       "    <tr>\n",
       "      <th>2</th>\n",
       "      <td>2</td>\n",
       "      <td>happy birthday angel!!! i hope you’re having...</td>\n",
       "      <td>love%1:12:00::</td>\n",
       "      <td>2022-07-15 15:24:40</td>\n",
       "    </tr>\n",
       "    <tr>\n",
       "      <th>3</th>\n",
       "      <td>3</td>\n",
       "      <td>it was a pleasure being reminded how terribl...</td>\n",
       "      <td>love%1:12:00::</td>\n",
       "      <td>2022-07-15 15:24:44</td>\n",
       "    </tr>\n",
       "    <tr>\n",
       "      <th>4</th>\n",
       "      <td>4</td>\n",
       "      <td>really sang till his voice went out last nig...</td>\n",
       "      <td>love%1:12:00::</td>\n",
       "      <td>2022-07-15 15:24:50</td>\n",
       "    </tr>\n",
       "    <tr>\n",
       "      <th>...</th>\n",
       "      <td>...</td>\n",
       "      <td>...</td>\n",
       "      <td>...</td>\n",
       "      <td>...</td>\n",
       "    </tr>\n",
       "    <tr>\n",
       "      <th>79</th>\n",
       "      <td>79</td>\n",
       "      <td>I ❤️   Always the best easiest and fastest way...</td>\n",
       "      <td>love%1:12:00::</td>\n",
       "      <td>2022-07-15 15:39:00</td>\n",
       "    </tr>\n",
       "    <tr>\n",
       "      <th>80</th>\n",
       "      <td>80</td>\n",
       "      <td>I ❤️ Pokemon #canalcity #fukuoka #japan #pokem...</td>\n",
       "      <td>love%1:12:00::</td>\n",
       "      <td>2022-07-15 15:39:02</td>\n",
       "    </tr>\n",
       "    <tr>\n",
       "      <th>81</th>\n",
       "      <td>81</td>\n",
       "      <td>I added a video to a   playlist  Cha Eun Woo ❤...</td>\n",
       "      <td>love%1:12:00::</td>\n",
       "      <td>2022-07-15 15:39:05</td>\n",
       "    </tr>\n",
       "    <tr>\n",
       "      <th>82</th>\n",
       "      <td>82</td>\n",
       "      <td>I added a video to a   playlist  CRUCIFY YOUR ...</td>\n",
       "      <td>love%1:12:00::</td>\n",
       "      <td>2022-07-15 15:39:08</td>\n",
       "    </tr>\n",
       "    <tr>\n",
       "      <th>83</th>\n",
       "      <td>83</td>\n",
       "      <td>I AM HOTTEST ❤️ 2PM \\nHAPPY 10TH ANNIVERSARY 2...</td>\n",
       "      <td>love%1:12:00::</td>\n",
       "      <td>2022-07-15 15:39:10</td>\n",
       "    </tr>\n",
       "  </tbody>\n",
       "</table>\n",
       "<p>84 rows × 4 columns</p>\n",
       "</div>"
      ],
      "text/plain": [
       "    id_column                                              Tweet  \\\n",
       "0           0    #AskWhyDontWe\\u2060 \\u2060 can Daniel take m...   \n",
       "1           1    ❤️ I am so excited that  #SmallDoses is comi...   \n",
       "2           2    happy birthday angel!!! i hope you’re having...   \n",
       "3           3    it was a pleasure being reminded how terribl...   \n",
       "4           4    really sang till his voice went out last nig...   \n",
       "..        ...                                                ...   \n",
       "79         79  I ❤️   Always the best easiest and fastest way...   \n",
       "80         80  I ❤️ Pokemon #canalcity #fukuoka #japan #pokem...   \n",
       "81         81  I added a video to a   playlist  Cha Eun Woo ❤...   \n",
       "82         82  I added a video to a   playlist  CRUCIFY YOUR ...   \n",
       "83         83  I AM HOTTEST ❤️ 2PM \\nHAPPY 10TH ANNIVERSARY 2...   \n",
       "\n",
       "             label        annotated_at  \n",
       "0   love%1:12:00:: 2022-07-15 15:24:24  \n",
       "1   love%1:12:00:: 2022-07-15 15:24:36  \n",
       "2   love%1:12:00:: 2022-07-15 15:24:40  \n",
       "3   love%1:12:00:: 2022-07-15 15:24:44  \n",
       "4   love%1:12:00:: 2022-07-15 15:24:50  \n",
       "..             ...                 ...  \n",
       "79  love%1:12:00:: 2022-07-15 15:39:00  \n",
       "80  love%1:12:00:: 2022-07-15 15:39:02  \n",
       "81  love%1:12:00:: 2022-07-15 15:39:05  \n",
       "82  love%1:12:00:: 2022-07-15 15:39:08  \n",
       "83  love%1:12:00:: 2022-07-15 15:39:10  \n",
       "\n",
       "[84 rows x 4 columns]"
      ]
     },
     "execution_count": 17,
     "metadata": {},
     "output_type": "execute_result"
    }
   ],
   "source": [
    "annotations"
   ]
  },
  {
   "cell_type": "code",
   "execution_count": 18,
   "id": "6047dc20",
   "metadata": {},
   "outputs": [],
   "source": [
    "annotations.to_csv('/Users/elena/Desktop/Emoji Project/Annotated/40/heart annotations 40.csv', encoding='utf-8')"
   ]
  },
  {
   "cell_type": "code",
   "execution_count": null,
   "id": "d4015461",
   "metadata": {},
   "outputs": [],
   "source": []
  }
 ],
 "metadata": {
  "kernelspec": {
   "display_name": "Python 3 (ipykernel)",
   "language": "python",
   "name": "python3"
  },
  "language_info": {
   "codemirror_mode": {
    "name": "ipython",
    "version": 3
   },
   "file_extension": ".py",
   "mimetype": "text/x-python",
   "name": "python",
   "nbconvert_exporter": "python",
   "pygments_lexer": "ipython3",
   "version": "3.9.12"
  }
 },
 "nbformat": 4,
 "nbformat_minor": 5
}
